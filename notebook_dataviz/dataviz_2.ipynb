{
 "cells": [
  {
   "cell_type": "code",
   "execution_count": 25,
   "metadata": {},
   "outputs": [],
   "source": [
    "from __future__ import annotations\n",
    "import pandas as pd\n",
    "import numpy as np\n",
    "import os\n",
    "import sys\n",
    "sys.path.append(\"../src/\")\n",
    "\n",
    "from utils import *\n",
    "\n",
    "import warnings\n",
    "warnings.simplefilter('ignore')\n",
    "import matplotlib.pyplot as plt\n",
    "import geopandas as gpd\n",
    "import seaborn as sns\n",
    "import plotly.graph_objects as go\n",
    "import datetime\n",
    "import plotly.express as px\n",
    "\n",
    "\n",
    "pd.set_option('display.max_columns', None)"
   ]
  },
  {
   "cell_type": "code",
   "execution_count": null,
   "metadata": {},
   "outputs": [],
   "source": [
    "df_more_data_for_viz = pd.read_csv(\"../data/dataset_velo_acc_preprocess.csv\")\n",
    "#df_viz_2 = merge_post_format(df_more_data_for_viz)\n",
    "df_viz_2 = merge_post_format(df_more_data_for_viz)\n",
    "df_viz_2 = df_viz_2[[\"catv\", \"grav\", \"lat\", 'long', 'com']]"
   ]
  },
  {
   "cell_type": "code",
   "execution_count": 26,
   "metadata": {},
   "outputs": [],
   "source": [
    "df_viz_2 = pd.read_csv(\"../data/dataset_viz.csv\")"
   ]
  },
  {
   "cell_type": "code",
   "execution_count": null,
   "metadata": {},
   "outputs": [],
   "source": [
    "def filter_top_nine_citys_only(df_acc_):\n",
    "    top_nine_citys = [75,44,33,59,31,13,69,34,67]\n",
    "\n",
    "    mask_acc = np.zeros(df_acc_.shape[0]).astype(bool)\n",
    "\n",
    "    for code in top_nine_citys:\n",
    "        mask_acc = np.logical_or(mask_acc, df_acc_['com'] == code)\n",
    "\n",
    "    df_acc_ = df_acc_[mask_acc]\n",
    "\n",
    "    return df_acc_.reset_index(drop=True)"
   ]
  },
  {
   "attachments": {},
   "cell_type": "markdown",
   "metadata": {},
   "source": [
    "## Graph 2 \n",
    "Par catégorie de véhicule : pourcentage d’accident grave par rapport au nombre d’accident."
   ]
  },
  {
   "attachments": {},
   "cell_type": "markdown",
   "metadata": {},
   "source": [
    "catv (Catégorie de véhicule)\n",
    "- 1 : vélo\n",
    "- 2 : 2 roue s\n",
    "- 3 : voiture (VL)\n",
    "- 4 : Bus\n",
    "- 5 : Camion\n",
    "- 6 : Train\n",
    "- 7 : Autre\n",
    "\n",
    "grav (Gravité de l'accident)\n",
    "- 1 : blessée léger\n",
    "- 2 : blessée grave (hospitalisation)\n",
    "- 3 : mort\n"
   ]
  },
  {
   "attachments": {},
   "cell_type": "markdown",
   "metadata": {},
   "source": [
    "### SNS HIST"
   ]
  },
  {
   "cell_type": "code",
   "execution_count": null,
   "metadata": {},
   "outputs": [],
   "source": [
    "df_viz_2 = filter_top_nine_citys_only(df_viz_2)"
   ]
  },
  {
   "cell_type": "code",
   "execution_count": null,
   "metadata": {},
   "outputs": [],
   "source": [
    "df = df_viz_2[['catv', 'grav']].dropna()\n",
    "catv_dict = {\"vélo\" : 1, \"deux roues\" : 2, \"voiture\": 3, \"bus\" : 4, \"camion\" : 5, \"train\" : 6, \"autre\" : 7}\n",
    "grav_dict = {\"léger\" : 1, \"grave\" : 2, \"mort\" : 3}\n",
    "\n",
    "grav_dict = {v : k for k, v in grav_dict.items()}\n",
    "catv_dict = {v : k for k, v in catv_dict.items()}\n",
    "\n",
    "df['catv'].replace(catv_dict, inplace=True)\n",
    "df['grav'].replace(grav_dict, inplace=True)\n",
    "df = df.rename({'grav' : \"gravité\"}, axis=1)\n"
   ]
  },
  {
   "cell_type": "code",
   "execution_count": null,
   "metadata": {},
   "outputs": [],
   "source": [
    "#Ville\n",
    "fig, axes = plt.subplots(ncols=2, gridspec_kw={'width_ratios': [1, 4]})\n",
    "\n",
    "axes[1].yaxis.tick_right()\n",
    "\n",
    "fig1 = sns.histplot(data=df[df['catv'] == 'voiture'], x=\"catv\", hue=\"gravité\", multiple=\"stack\", ax=axes[0], legend=None)\n",
    "fig2 = sns.histplot(data=df[df['catv'] != 'voiture'], x=\"catv\", hue=\"gravité\", multiple=\"stack\", ax=axes[1])\n",
    "fig.suptitle(\"Avec qui les vélos ont des accidents dans les grandes métropoles ?\")\n",
    "fig1.set(ylabel=\"Nombre d'accidents\", xlabel=\"Catégories de véhicules\")\n",
    "fig2.set(ylabel=None, xlabel=None)\n"
   ]
  },
  {
   "cell_type": "markdown",
   "metadata": {},
   "source": []
  },
  {
   "cell_type": "code",
   "execution_count": null,
   "metadata": {},
   "outputs": [],
   "source": []
  },
  {
   "cell_type": "code",
   "execution_count": null,
   "metadata": {},
   "outputs": [],
   "source": [
    "#Partout\n",
    "hue_order = ['deux roues', \"vélo\", \"bus\", \"camion\", \"autre\", \"train\"]\n",
    "sns.histplot(data=df[df['catv'] != 'voiture'], x=\"catv\", hue=\"grav\", multiple=\"stack\")\n"
   ]
  },
  {
   "cell_type": "code",
   "execution_count": null,
   "metadata": {},
   "outputs": [],
   "source": [
    "sns.histplot(data=df[df['catv'] == 'voiture'], x=\"catv\", hue=\"grav\", multiple=\"stack\")\n"
   ]
  },
  {
   "attachments": {},
   "cell_type": "markdown",
   "metadata": {},
   "source": [
    "### autre"
   ]
  },
  {
   "cell_type": "code",
   "execution_count": null,
   "metadata": {},
   "outputs": [],
   "source": [
    "catv_dict = {\"vélo\" : 1, \"deux roues\" : 2, \"voiture\": 3, \"bus\" : 4, \"camion\" : 5, \"train\" : 6, \"autre\" : 7}\n",
    "grav_dict = {\"léger\" : 1, \"grave\" : 2, \"mort\" : 3}\n",
    "catv_label_list = list(df_viz_2['catv'].value_counts().index)\n",
    "df_viz_2_per_catv = [df_viz_2[df_viz_2['catv'] == i] for i in catv_label_list]"
   ]
  },
  {
   "cell_type": "code",
   "execution_count": null,
   "metadata": {},
   "outputs": [],
   "source": [
    "#pour chaque catégore\n",
    "for catv_key in catv_dict:\n",
    "\n",
    "    #pour chaque gravité\n",
    "    for grav_key in grav_dict:\n",
    "\n",
    "        d = df_viz_2[df_viz_2['catv'] == catv_dict[catv_key]] #only one categorie of vehicules\n",
    "        #only "
   ]
  },
  {
   "cell_type": "code",
   "execution_count": null,
   "metadata": {},
   "outputs": [],
   "source": [
    "d = df_viz_2_per_catv[catv_dict['vélo']]\n",
    "d[d['grav'] == 1].shape[0]"
   ]
  },
  {
   "cell_type": "code",
   "execution_count": null,
   "metadata": {},
   "outputs": [],
   "source": [
    "df_viz_2['catv'].value_counts() / df_viz_2.shape[0]"
   ]
  },
  {
   "cell_type": "code",
   "execution_count": null,
   "metadata": {},
   "outputs": [],
   "source": [
    "nombre_accident_dict =  { 1 : df_viz_2_per_catv[catv_dict['vélo']]\n",
    "nombre_accident_léger = "
   ]
  },
  {
   "cell_type": "code",
   "execution_count": null,
   "metadata": {},
   "outputs": [],
   "source": [
    "df_viz_2_per_catv[catv_dict['voiture']]['grav'].value_counts()"
   ]
  },
  {
   "cell_type": "code",
   "execution_count": null,
   "metadata": {},
   "outputs": [],
   "source": []
  },
  {
   "attachments": {},
   "cell_type": "markdown",
   "metadata": {},
   "source": [
    "## Graph 3 (gravité par infrastructure)"
   ]
  },
  {
   "cell_type": "markdown",
   "metadata": {},
   "source": [
    "df_more_data_for_viz['vosp'].value_counts()\n",
    "\n",
    "1 - piste\n",
    "2 - bande\n",
    "3 - voie reservé"
   ]
  },
  {
   "cell_type": "code",
   "execution_count": 27,
   "metadata": {},
   "outputs": [],
   "source": [
    "df_viz_2 = filter_top_nine_citys_only(df_viz_2)"
   ]
  },
  {
   "cell_type": "code",
   "execution_count": 69,
   "metadata": {},
   "outputs": [],
   "source": [
    "df = df_viz_2[['ame_d', 'grav']].dropna()\n",
    "#catv_dict = {\"vélo\" : 1, \"deux roues\" : 2, \"voiture\": 3, \"bus\" : 4, \"camion\" : 5, \"train\" : 6, \"autre\" : 7}\n",
    "ame_dict = {'GOULOTTE' : 'AUTRE', 'ACCOTEMENT REVETU HORS CVCB' : 'AUTRE', 'CHAUSSEE A VOIE CENTRALE BANALISEE' : 'AUTRE', 'VELO RUE' : 'AUTRE', 'DOUBLE SENS CYCLABLE BANDE' : 'AUTRE', 'DOUBLE SENS CYCLABLE PISTE' : 'AUTRE', \n",
    "\"AMENAGEMENT MIXTE PIETON VELO HORS VOIE VERTE\" : \"mixte\",\n",
    "\"PISTE CYCLABLE\" : \"piste\",\n",
    "\"BANDE CYCLABLE\" : \"bande\",\n",
    "\"couloir bus+velo\".upper() : \"bus + vélo\"}\n",
    "\n",
    "grav_dict = {\"léger\" : 1, \"grave\" : 2, \"mort\" : 3}\n",
    "\n",
    "grav_dict = {v : k for k, v in grav_dict.items()}\n",
    "#ame_dict = {v : k for k, v in ame_dict.items()}\n",
    "\n",
    "\n",
    "df['grav'].replace(grav_dict, inplace=True)\n",
    "df['ame_d'] = df['ame_d'].replace(ame_dict)\n",
    "df['ame_d'] = df['ame_d'].apply(lambda a : a.lower())\n",
    "\n",
    "\n",
    "df = df.rename({'grav' : \"gravité\"}, axis=1)\n",
    "\n",
    "order = list(df['ame_d'].value_counts().index)\n",
    "dict_order = { order[i] : i for i in range(len(order))}\n",
    "df[\"ame_d\"] = df[\"ame_d\"].replace(dict_order)\n",
    "df = df.sort_values(by='ame_d')\n",
    "dict_order = { i : order[i] for i in range(len(order))}\n",
    "df[\"ame_d\"] = df[\"ame_d\"].replace(dict_order)"
   ]
  },
  {
   "cell_type": "code",
   "execution_count": 71,
   "metadata": {},
   "outputs": [
    {
     "data": {
      "image/png": "[encoded data removed]",
      "text/plain": [
       "<Figure size 640x480 with 1 Axes>"
      ]
     },
     "metadata": {},
     "output_type": "display_data"
    }
   ],
   "source": [
    "#Ville\n",
    "fig = sns.histplot(data=df, x=\"ame_d\", hue=\"gravité\", multiple=\"fill\", stat='percent')\n",
    "fig.set(title = \"Sur quelles infrastructures les vélos ont des accidents ?\", ylabel=\"Pourcentage d'accidents\", xlabel=\"Infrastructures\")\n",
    "plt.xticks(rotation=70);"
   ]
  },
  {
   "cell_type": "code",
   "execution_count": 39,
   "metadata": {},
   "outputs": [
    {
     "data": {
      "text/plain": [
       "piste               0.345847\n",
       "bande               0.198968\n",
       "aucun               0.190521\n",
       "voie verte          0.138902\n",
       "autre               0.049742\n",
       "mixte               0.038480\n",
       "couloir bus+velo    0.037541\n",
       "Name: ame_d, dtype: float64"
      ]
     },
     "execution_count": 39,
     "metadata": {},
     "output_type": "execute_result"
    }
   ],
   "source": [
    "df[\"ame_d\"].value_counts() / df.shape[0]"
   ]
  },
  {
   "attachments": {},
   "cell_type": "markdown",
   "metadata": {},
   "source": [
    "## Autre"
   ]
  },
  {
   "cell_type": "code",
   "execution_count": null,
   "metadata": {},
   "outputs": [],
   "source": []
  },
  {
   "cell_type": "code",
   "execution_count": null,
   "metadata": {},
   "outputs": [],
   "source": []
  },
  {
   "cell_type": "code",
   "execution_count": null,
   "metadata": {},
   "outputs": [],
   "source": []
  }
 ],
 "metadata": {
  "kernelspec": {
   "display_name": ".venv",
   "language": "python",
   "name": "python3"
  },
  "language_info": {
   "codemirror_mode": {
    "name": "ipython",
    "version": 3
   },
   "file_extension": ".py",
   "mimetype": "text/x-python",
   "name": "python",
   "nbconvert_exporter": "python",
   "pygments_lexer": "ipython3",
   "version": "3.10.6"
  },
  "orig_nbformat": 4,
  "vscode": {
   "interpreter": {
    "hash": "0ee276624d3fcd964199bac74c27cc22375c07b6f620369e0ce4a270d25b36f5"
   }
  }
 },
 "nbformat": 4,
 "nbformat_minor": 2
}
