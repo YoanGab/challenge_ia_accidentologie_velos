{
 "cells": [
  {
   "cell_type": "code",
   "execution_count": 10,
   "metadata": {},
   "outputs": [],
   "source": [
    "from __future__ import annotations\n",
    "import pandas as pd"
   ]
  },
  {
   "cell_type": "code",
   "execution_count": null,
   "metadata": {},
   "outputs": [],
   "source": [
    "class FeatureProcessingMerge():\n",
    "\n",
    "    def __init__(self, dataframe : pd.DataFrame, OneFeatureProcess_list : list[BaseOneFeatureProcess]):\n",
    "        self.dataframe = dataframe\n",
    "        self.OneFeatureProcess_list = OneFeatureProcess_list\n",
    "        self.features_to_process = [i.feature_name for i in OneFeatureProcess_list]\n",
    "\n",
    "    def _process_all(self):\n",
    "\n",
    "        series_list = [] #list des pd.Series qui vont être retournée\n",
    "\n",
    "\n",
    "        for f in self.OneFeatureProcess_list:\n",
    "            df = self.dataframe[f._input_dataset_features()].copy()\n",
    "            series_list.append(f._process())\n",
    "\n",
    "        return pd.concat(series_list, axis=1)\n",
    "\n",
    "    \n",
    "class BaseOneFeatureProcess():\n",
    "\n",
    "    def __init__(self, feature_name : str, features_needed : list = None):\n",
    "        self.feature_name = feature_name\n",
    "        self.features_needed = features_needed\n",
    "\n",
    "    def _input_dataset_features(self):\n",
    "        if self.features_needed is None:\n",
    "            return [self.feature_name]\n",
    "        elif type(self.features_needed) is list:\n",
    "            return [self.feature_name, *self.features_needed]\n",
    "        else:\n",
    "            raise TypeError\n",
    "\n",
    "\n",
    "    def _process(dataframe) -> pd.Series:\n",
    "        \"\"\"\n",
    "        Take a dataframe composed of 'self.feature_name' and all features mentionned in 'features_needed' if any\n",
    "        \"\"\"\n",
    "        raise NotImplementedError"
   ]
  }
 ],
 "metadata": {
  "kernelspec": {
   "display_name": "Python 3",
   "language": "python",
   "name": "python3"
  },
  "language_info": {
   "codemirror_mode": {
    "name": "ipython",
    "version": 3
   },
   "file_extension": ".py",
   "mimetype": "text/x-python",
   "name": "python",
   "nbconvert_exporter": "python",
   "pygments_lexer": "ipython3",
   "version": "3.10.6"
  },
  "orig_nbformat": 4,
  "vscode": {
   "interpreter": {
    "hash": "916dbcbb3f70747c44a77c7bcd40155683ae19c65e1c03b4aa3499c5328201f1"
   }
  }
 },
 "nbformat": 4,
 "nbformat_minor": 2
}
