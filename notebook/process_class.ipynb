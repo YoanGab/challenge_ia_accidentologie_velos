{
 "cells": [
  {
   "cell_type": "code",
   "execution_count": 12,
   "metadata": {},
   "outputs": [],
   "source": [
    "from __future__ import annotations\n",
    "import pandas as pd\n",
    "import numpy as np\n",
    "import os\n",
    "import sys\n",
    "sys.path.append(\"../src/\")\n",
    "\n",
    "from utils import *\n",
    "from sklearn.impute import KNNImputer"
   ]
  },
  {
   "cell_type": "code",
   "execution_count": 15,
   "metadata": {},
   "outputs": [],
   "source": [
    "df = pd.read_csv(os.path.join(\"..\", \"data\", \"dataset_velo_acc_preprocess.csv\"))\n",
    "df = merge_post_format(df)\n",
    "df = df.replace(pd.NA, np.nan)\n",
    "df = one_hot_encoder(df, ['lum', 'int', 'atm', 'col', 'catr', 'circ', 'vosp','prof', 'plan', 'surf', 'infra', 'situ', 'catv', 'obs', 'obsm', 'choc','grav', 'obs2', 'obsm2', 'choc2'])\n",
    "\n"
   ]
  },
  {
   "cell_type": "code",
   "execution_count": 17,
   "metadata": {},
   "outputs": [],
   "source": [
    "imp = KNNImputer(missing_values = np.nan, n_neighbors=1)\n",
    "series_date = df[\"date\"]\n",
    "df = pd.DataFrame(imp.fit_transform(df.drop('date', axis=1)))\n",
    "df = pd.concat([df, series_date])"
   ]
  },
  {
   "cell_type": "code",
   "execution_count": 11,
   "metadata": {},
   "outputs": [
    {
     "ename": "KeyboardInterrupt",
     "evalue": "",
     "output_type": "error",
     "traceback": [
      "\u001b[0;31m---------------------------------------------------------------------------\u001b[0m",
      "\u001b[0;31mKeyboardInterrupt\u001b[0m                         Traceback (most recent call last)",
      "\u001b[1;32m/home/rulli/Documents/Cours/Challenge2023Latitude/challenge_ia_accidentologie_velos/notebook/process_class.ipynb Cellule 7\u001b[0m in \u001b[0;36m<cell line: 1>\u001b[0;34m()\u001b[0m\n\u001b[0;32m----> <a href='vscode-notebook-cell:/home/rulli/Documents/Cours/Challenge2023Latitude/challenge_ia_accidentologie_velos/notebook/process_class.ipynb#Y116sZmlsZQ%3D%3D?line=0'>1</a>\u001b[0m df \u001b[39m=\u001b[39m impute(df)\n",
      "File \u001b[0;32m~/Documents/Cours/Challenge2023Latitude/challenge_ia_accidentologie_velos/notebook/../src/utils.py:36\u001b[0m, in \u001b[0;36mimpute\u001b[0;34m(df)\u001b[0m\n\u001b[1;32m     34\u001b[0m imp \u001b[39m=\u001b[39m KNNImputer(missing_values \u001b[39m=\u001b[39m np\u001b[39m.\u001b[39mnan, n_neighbors\u001b[39m=\u001b[39m\u001b[39m1\u001b[39m)\n\u001b[1;32m     35\u001b[0m series_date \u001b[39m=\u001b[39m df[\u001b[39m\"\u001b[39m\u001b[39mdate\u001b[39m\u001b[39m\"\u001b[39m]\n\u001b[0;32m---> 36\u001b[0m df \u001b[39m=\u001b[39m pd\u001b[39m.\u001b[39mDataFrame(imp\u001b[39m.\u001b[39;49mfit_transform(df\u001b[39m.\u001b[39;49mdrop(\u001b[39m'\u001b[39;49m\u001b[39mdate\u001b[39;49m\u001b[39m'\u001b[39;49m, axis\u001b[39m=\u001b[39;49m\u001b[39m1\u001b[39;49m)))\n\u001b[1;32m     37\u001b[0m \u001b[39mreturn\u001b[39;00m pd\u001b[39m.\u001b[39mconcat([df, series_date])\n",
      "File \u001b[0;32m~/.local/lib/python3.10/site-packages/sklearn/base.py:867\u001b[0m, in \u001b[0;36mTransformerMixin.fit_transform\u001b[0;34m(self, X, y, **fit_params)\u001b[0m\n\u001b[1;32m    863\u001b[0m \u001b[39m# non-optimized default implementation; override when a better\u001b[39;00m\n\u001b[1;32m    864\u001b[0m \u001b[39m# method is possible for a given clustering algorithm\u001b[39;00m\n\u001b[1;32m    865\u001b[0m \u001b[39mif\u001b[39;00m y \u001b[39mis\u001b[39;00m \u001b[39mNone\u001b[39;00m:\n\u001b[1;32m    866\u001b[0m     \u001b[39m# fit method of arity 1 (unsupervised transformation)\u001b[39;00m\n\u001b[0;32m--> 867\u001b[0m     \u001b[39mreturn\u001b[39;00m \u001b[39mself\u001b[39;49m\u001b[39m.\u001b[39;49mfit(X, \u001b[39m*\u001b[39;49m\u001b[39m*\u001b[39;49mfit_params)\u001b[39m.\u001b[39;49mtransform(X)\n\u001b[1;32m    868\u001b[0m \u001b[39melse\u001b[39;00m:\n\u001b[1;32m    869\u001b[0m     \u001b[39m# fit method of arity 2 (supervised transformation)\u001b[39;00m\n\u001b[1;32m    870\u001b[0m     \u001b[39mreturn\u001b[39;00m \u001b[39mself\u001b[39m\u001b[39m.\u001b[39mfit(X, y, \u001b[39m*\u001b[39m\u001b[39m*\u001b[39mfit_params)\u001b[39m.\u001b[39mtransform(X)\n",
      "File \u001b[0;32m~/.local/lib/python3.10/site-packages/sklearn/impute/_knn.py:338\u001b[0m, in \u001b[0;36mKNNImputer.transform\u001b[0;34m(self, X)\u001b[0m\n\u001b[1;32m    329\u001b[0m \u001b[39m# process in fixed-memory chunks\u001b[39;00m\n\u001b[1;32m    330\u001b[0m gen \u001b[39m=\u001b[39m pairwise_distances_chunked(\n\u001b[1;32m    331\u001b[0m     X[row_missing_idx, :],\n\u001b[1;32m    332\u001b[0m     \u001b[39mself\u001b[39m\u001b[39m.\u001b[39m_fit_X,\n\u001b[0;32m   (...)\u001b[0m\n\u001b[1;32m    336\u001b[0m     reduce_func\u001b[39m=\u001b[39mprocess_chunk,\n\u001b[1;32m    337\u001b[0m )\n\u001b[0;32m--> 338\u001b[0m \u001b[39mfor\u001b[39;00m chunk \u001b[39min\u001b[39;00m gen:\n\u001b[1;32m    339\u001b[0m     \u001b[39m# process_chunk modifies X in place. No return value.\u001b[39;00m\n\u001b[1;32m    340\u001b[0m     \u001b[39mpass\u001b[39;00m\n\u001b[1;32m    342\u001b[0m \u001b[39mreturn\u001b[39;00m \u001b[39msuper\u001b[39m()\u001b[39m.\u001b[39m_concatenate_indicator(X[:, valid_mask], X_indicator)\n",
      "File \u001b[0;32m~/.local/lib/python3.10/site-packages/sklearn/metrics/pairwise.py:1859\u001b[0m, in \u001b[0;36mpairwise_distances_chunked\u001b[0;34m(X, Y, reduce_func, metric, n_jobs, working_memory, **kwds)\u001b[0m\n\u001b[1;32m   1857\u001b[0m \u001b[39mif\u001b[39;00m reduce_func \u001b[39mis\u001b[39;00m \u001b[39mnot\u001b[39;00m \u001b[39mNone\u001b[39;00m:\n\u001b[1;32m   1858\u001b[0m     chunk_size \u001b[39m=\u001b[39m D_chunk\u001b[39m.\u001b[39mshape[\u001b[39m0\u001b[39m]\n\u001b[0;32m-> 1859\u001b[0m     D_chunk \u001b[39m=\u001b[39m reduce_func(D_chunk, sl\u001b[39m.\u001b[39;49mstart)\n\u001b[1;32m   1860\u001b[0m     _check_chunk_size(D_chunk, chunk_size)\n\u001b[1;32m   1861\u001b[0m \u001b[39myield\u001b[39;00m D_chunk\n",
      "File \u001b[0;32m~/.local/lib/python3.10/site-packages/sklearn/impute/_knn.py:321\u001b[0m, in \u001b[0;36mKNNImputer.transform.<locals>.process_chunk\u001b[0;34m(dist_chunk, start)\u001b[0m\n\u001b[1;32m    316\u001b[0m     dist_subset \u001b[39m=\u001b[39m dist_chunk[dist_idx_map[receivers_idx] \u001b[39m-\u001b[39m start][\n\u001b[1;32m    317\u001b[0m         :, potential_donors_idx\n\u001b[1;32m    318\u001b[0m     ]\n\u001b[1;32m    320\u001b[0m n_neighbors \u001b[39m=\u001b[39m \u001b[39mmin\u001b[39m(\u001b[39mself\u001b[39m\u001b[39m.\u001b[39mn_neighbors, \u001b[39mlen\u001b[39m(potential_donors_idx))\n\u001b[0;32m--> 321\u001b[0m value \u001b[39m=\u001b[39m \u001b[39mself\u001b[39;49m\u001b[39m.\u001b[39;49m_calc_impute(\n\u001b[1;32m    322\u001b[0m     dist_subset,\n\u001b[1;32m    323\u001b[0m     n_neighbors,\n\u001b[1;32m    324\u001b[0m     \u001b[39mself\u001b[39;49m\u001b[39m.\u001b[39;49m_fit_X[potential_donors_idx, col],\n\u001b[1;32m    325\u001b[0m     mask_fit_X[potential_donors_idx, col],\n\u001b[1;32m    326\u001b[0m )\n\u001b[1;32m    327\u001b[0m X[receivers_idx, col] \u001b[39m=\u001b[39m value\n",
      "File \u001b[0;32m~/.local/lib/python3.10/site-packages/sklearn/impute/_knn.py:159\u001b[0m, in \u001b[0;36mKNNImputer._calc_impute\u001b[0;34m(self, dist_pot_donors, n_neighbors, fit_X_col, mask_fit_X_col)\u001b[0m\n\u001b[1;32m    135\u001b[0m \u001b[39m\"\"\"Helper function to impute a single column.\u001b[39;00m\n\u001b[1;32m    136\u001b[0m \n\u001b[1;32m    137\u001b[0m \u001b[39mParameters\u001b[39;00m\n\u001b[0;32m   (...)\u001b[0m\n\u001b[1;32m    156\u001b[0m \u001b[39m    Imputed values for receiver.\u001b[39;00m\n\u001b[1;32m    157\u001b[0m \u001b[39m\"\"\"\u001b[39;00m\n\u001b[1;32m    158\u001b[0m \u001b[39m# Get donors\u001b[39;00m\n\u001b[0;32m--> 159\u001b[0m donors_idx \u001b[39m=\u001b[39m np\u001b[39m.\u001b[39;49margpartition(dist_pot_donors, n_neighbors \u001b[39m-\u001b[39;49m \u001b[39m1\u001b[39;49m, axis\u001b[39m=\u001b[39;49m\u001b[39m1\u001b[39;49m)[\n\u001b[1;32m    160\u001b[0m     :, :n_neighbors\n\u001b[1;32m    161\u001b[0m ]\n\u001b[1;32m    163\u001b[0m \u001b[39m# Get weight matrix from distance matrix\u001b[39;00m\n\u001b[1;32m    164\u001b[0m donors_dist \u001b[39m=\u001b[39m dist_pot_donors[\n\u001b[1;32m    165\u001b[0m     np\u001b[39m.\u001b[39marange(donors_idx\u001b[39m.\u001b[39mshape[\u001b[39m0\u001b[39m])[:, \u001b[39mNone\u001b[39;00m], donors_idx\n\u001b[1;32m    166\u001b[0m ]\n",
      "File \u001b[0;32m<__array_function__ internals>:180\u001b[0m, in \u001b[0;36margpartition\u001b[0;34m(*args, **kwargs)\u001b[0m\n",
      "File \u001b[0;32m~/.local/lib/python3.10/site-packages/numpy/core/fromnumeric.py:845\u001b[0m, in \u001b[0;36margpartition\u001b[0;34m(a, kth, axis, kind, order)\u001b[0m\n\u001b[1;32m    766\u001b[0m \u001b[39m@array_function_dispatch\u001b[39m(_argpartition_dispatcher)\n\u001b[1;32m    767\u001b[0m \u001b[39mdef\u001b[39;00m \u001b[39margpartition\u001b[39m(a, kth, axis\u001b[39m=\u001b[39m\u001b[39m-\u001b[39m\u001b[39m1\u001b[39m, kind\u001b[39m=\u001b[39m\u001b[39m'\u001b[39m\u001b[39mintroselect\u001b[39m\u001b[39m'\u001b[39m, order\u001b[39m=\u001b[39m\u001b[39mNone\u001b[39;00m):\n\u001b[1;32m    768\u001b[0m     \u001b[39m\"\"\"\u001b[39;00m\n\u001b[1;32m    769\u001b[0m \u001b[39m    Perform an indirect partition along the given axis using the\u001b[39;00m\n\u001b[1;32m    770\u001b[0m \u001b[39m    algorithm specified by the `kind` keyword. It returns an array of\u001b[39;00m\n\u001b[0;32m   (...)\u001b[0m\n\u001b[1;32m    843\u001b[0m \n\u001b[1;32m    844\u001b[0m \u001b[39m    \"\"\"\u001b[39;00m\n\u001b[0;32m--> 845\u001b[0m     \u001b[39mreturn\u001b[39;00m _wrapfunc(a, \u001b[39m'\u001b[39;49m\u001b[39margpartition\u001b[39;49m\u001b[39m'\u001b[39;49m, kth, axis\u001b[39m=\u001b[39;49maxis, kind\u001b[39m=\u001b[39;49mkind, order\u001b[39m=\u001b[39;49morder)\n",
      "File \u001b[0;32m~/.local/lib/python3.10/site-packages/numpy/core/fromnumeric.py:57\u001b[0m, in \u001b[0;36m_wrapfunc\u001b[0;34m(obj, method, *args, **kwds)\u001b[0m\n\u001b[1;32m     54\u001b[0m     \u001b[39mreturn\u001b[39;00m _wrapit(obj, method, \u001b[39m*\u001b[39margs, \u001b[39m*\u001b[39m\u001b[39m*\u001b[39mkwds)\n\u001b[1;32m     56\u001b[0m \u001b[39mtry\u001b[39;00m:\n\u001b[0;32m---> 57\u001b[0m     \u001b[39mreturn\u001b[39;00m bound(\u001b[39m*\u001b[39;49margs, \u001b[39m*\u001b[39;49m\u001b[39m*\u001b[39;49mkwds)\n\u001b[1;32m     58\u001b[0m \u001b[39mexcept\u001b[39;00m \u001b[39mTypeError\u001b[39;00m:\n\u001b[1;32m     59\u001b[0m     \u001b[39m# A TypeError occurs if the object does have such a method in its\u001b[39;00m\n\u001b[1;32m     60\u001b[0m     \u001b[39m# class, but its signature is not identical to that of NumPy's. This\u001b[39;00m\n\u001b[0;32m   (...)\u001b[0m\n\u001b[1;32m     64\u001b[0m     \u001b[39m# Call _wrapit from within the except clause to ensure a potential\u001b[39;00m\n\u001b[1;32m     65\u001b[0m     \u001b[39m# exception has a traceback chain.\u001b[39;00m\n\u001b[1;32m     66\u001b[0m     \u001b[39mreturn\u001b[39;00m _wrapit(obj, method, \u001b[39m*\u001b[39margs, \u001b[39m*\u001b[39m\u001b[39m*\u001b[39mkwds)\n",
      "\u001b[0;31mKeyboardInterrupt\u001b[0m: "
     ]
    }
   ],
   "source": [
    "df = impute(df)"
   ]
  },
  {
   "cell_type": "code",
   "execution_count": 2,
   "metadata": {},
   "outputs": [
    {
     "name": "stderr",
     "output_type": "stream",
     "text": [
      "/home/rulli/Documents/Cours/Challenge2023Latitude/challenge_ia_accidentologie_velos/notebook/../src/utils.py:41: DtypeWarning: Columns (16) have mixed types. Specify dtype option on import or set low_memory=False.\n",
      "  df = pd.read_csv(os.path.join(*path, \"dataset_velo_acc_preprocess.csv\"))\n",
      "/home/rulli/.local/lib/python3.10/site-packages/sklearn/utils/deprecation.py:87: FutureWarning: Function get_feature_names is deprecated; get_feature_names is deprecated in 1.0 and will be removed in 1.2. Please use get_feature_names_out instead.\n",
      "  warnings.warn(msg, category=FutureWarning)\n"
     ]
    },
    {
     "ename": "KeyboardInterrupt",
     "evalue": "",
     "output_type": "error",
     "traceback": [
      "\u001b[0;31m---------------------------------------------------------------------------\u001b[0m",
      "\u001b[0;31mKeyboardInterrupt\u001b[0m                         Traceback (most recent call last)",
      "\u001b[1;32m/home/rulli/Documents/Cours/Challenge2023Latitude/challenge_ia_accidentologie_velos/notebook/process_class.ipynb Cellule 2\u001b[0m in \u001b[0;36m<cell line: 1>\u001b[0;34m()\u001b[0m\n\u001b[0;32m----> <a href='vscode-notebook-cell:/home/rulli/Documents/Cours/Challenge2023Latitude/challenge_ia_accidentologie_velos/notebook/process_class.ipynb#X14sZmlsZQ%3D%3D?line=0'>1</a>\u001b[0m df \u001b[39m=\u001b[39m load_accident()\n",
      "File \u001b[0;32m~/Documents/Cours/Challenge2023Latitude/challenge_ia_accidentologie_velos/notebook/../src/utils.py:47\u001b[0m, in \u001b[0;36mload_accident\u001b[0;34m(filename, path, processed)\u001b[0m\n\u001b[1;32m     45\u001b[0m     df \u001b[39m=\u001b[39m df\u001b[39m.\u001b[39mreplace(pd\u001b[39m.\u001b[39mNA, np\u001b[39m.\u001b[39mnan)\n\u001b[1;32m     46\u001b[0m     df \u001b[39m=\u001b[39m one_hot_encoder(df, [\u001b[39m'\u001b[39m\u001b[39mlum\u001b[39m\u001b[39m'\u001b[39m, \u001b[39m'\u001b[39m\u001b[39mint\u001b[39m\u001b[39m'\u001b[39m, \u001b[39m'\u001b[39m\u001b[39matm\u001b[39m\u001b[39m'\u001b[39m, \u001b[39m'\u001b[39m\u001b[39mcol\u001b[39m\u001b[39m'\u001b[39m, \u001b[39m'\u001b[39m\u001b[39mcatr\u001b[39m\u001b[39m'\u001b[39m, \u001b[39m'\u001b[39m\u001b[39mcirc\u001b[39m\u001b[39m'\u001b[39m, \u001b[39m'\u001b[39m\u001b[39mvosp\u001b[39m\u001b[39m'\u001b[39m,\u001b[39m'\u001b[39m\u001b[39mprof\u001b[39m\u001b[39m'\u001b[39m, \u001b[39m'\u001b[39m\u001b[39mplan\u001b[39m\u001b[39m'\u001b[39m, \u001b[39m'\u001b[39m\u001b[39msurf\u001b[39m\u001b[39m'\u001b[39m, \u001b[39m'\u001b[39m\u001b[39minfra\u001b[39m\u001b[39m'\u001b[39m, \u001b[39m'\u001b[39m\u001b[39msitu\u001b[39m\u001b[39m'\u001b[39m, \u001b[39m'\u001b[39m\u001b[39mcatv\u001b[39m\u001b[39m'\u001b[39m, \u001b[39m'\u001b[39m\u001b[39mobs\u001b[39m\u001b[39m'\u001b[39m, \u001b[39m'\u001b[39m\u001b[39mobsm\u001b[39m\u001b[39m'\u001b[39m, \u001b[39m'\u001b[39m\u001b[39mchoc\u001b[39m\u001b[39m'\u001b[39m,\u001b[39m'\u001b[39m\u001b[39mgrav\u001b[39m\u001b[39m'\u001b[39m, \u001b[39m'\u001b[39m\u001b[39mobs2\u001b[39m\u001b[39m'\u001b[39m, \u001b[39m'\u001b[39m\u001b[39mobsm2\u001b[39m\u001b[39m'\u001b[39m, \u001b[39m'\u001b[39m\u001b[39mchoc2\u001b[39m\u001b[39m'\u001b[39m])\n\u001b[0;32m---> 47\u001b[0m     df \u001b[39m=\u001b[39m impute(df)\n\u001b[1;32m     49\u001b[0m \u001b[39mreturn\u001b[39;00m df\n",
      "File \u001b[0;32m~/Documents/Cours/Challenge2023Latitude/challenge_ia_accidentologie_velos/notebook/../src/utils.py:36\u001b[0m, in \u001b[0;36mimpute\u001b[0;34m(df)\u001b[0m\n\u001b[1;32m     34\u001b[0m imp \u001b[39m=\u001b[39m KNNImputer(missing_values \u001b[39m=\u001b[39m np\u001b[39m.\u001b[39mnan, n_neighbors\u001b[39m=\u001b[39m\u001b[39m1\u001b[39m)\n\u001b[1;32m     35\u001b[0m series_date \u001b[39m=\u001b[39m df[\u001b[39m\"\u001b[39m\u001b[39mdate\u001b[39m\u001b[39m\"\u001b[39m]\n\u001b[0;32m---> 36\u001b[0m df \u001b[39m=\u001b[39m pd\u001b[39m.\u001b[39mDataFrame(imp\u001b[39m.\u001b[39;49mfit_transform(df\u001b[39m.\u001b[39;49mdrop(\u001b[39m'\u001b[39;49m\u001b[39mdate\u001b[39;49m\u001b[39m'\u001b[39;49m, axis\u001b[39m=\u001b[39;49m\u001b[39m1\u001b[39;49m)))\n\u001b[1;32m     37\u001b[0m \u001b[39mreturn\u001b[39;00m pd\u001b[39m.\u001b[39mconcat([df, series_date])\n",
      "File \u001b[0;32m~/.local/lib/python3.10/site-packages/sklearn/base.py:867\u001b[0m, in \u001b[0;36mTransformerMixin.fit_transform\u001b[0;34m(self, X, y, **fit_params)\u001b[0m\n\u001b[1;32m    863\u001b[0m \u001b[39m# non-optimized default implementation; override when a better\u001b[39;00m\n\u001b[1;32m    864\u001b[0m \u001b[39m# method is possible for a given clustering algorithm\u001b[39;00m\n\u001b[1;32m    865\u001b[0m \u001b[39mif\u001b[39;00m y \u001b[39mis\u001b[39;00m \u001b[39mNone\u001b[39;00m:\n\u001b[1;32m    866\u001b[0m     \u001b[39m# fit method of arity 1 (unsupervised transformation)\u001b[39;00m\n\u001b[0;32m--> 867\u001b[0m     \u001b[39mreturn\u001b[39;00m \u001b[39mself\u001b[39;49m\u001b[39m.\u001b[39;49mfit(X, \u001b[39m*\u001b[39;49m\u001b[39m*\u001b[39;49mfit_params)\u001b[39m.\u001b[39;49mtransform(X)\n\u001b[1;32m    868\u001b[0m \u001b[39melse\u001b[39;00m:\n\u001b[1;32m    869\u001b[0m     \u001b[39m# fit method of arity 2 (supervised transformation)\u001b[39;00m\n\u001b[1;32m    870\u001b[0m     \u001b[39mreturn\u001b[39;00m \u001b[39mself\u001b[39m\u001b[39m.\u001b[39mfit(X, y, \u001b[39m*\u001b[39m\u001b[39m*\u001b[39mfit_params)\u001b[39m.\u001b[39mtransform(X)\n",
      "File \u001b[0;32m~/.local/lib/python3.10/site-packages/sklearn/impute/_knn.py:338\u001b[0m, in \u001b[0;36mKNNImputer.transform\u001b[0;34m(self, X)\u001b[0m\n\u001b[1;32m    329\u001b[0m \u001b[39m# process in fixed-memory chunks\u001b[39;00m\n\u001b[1;32m    330\u001b[0m gen \u001b[39m=\u001b[39m pairwise_distances_chunked(\n\u001b[1;32m    331\u001b[0m     X[row_missing_idx, :],\n\u001b[1;32m    332\u001b[0m     \u001b[39mself\u001b[39m\u001b[39m.\u001b[39m_fit_X,\n\u001b[0;32m   (...)\u001b[0m\n\u001b[1;32m    336\u001b[0m     reduce_func\u001b[39m=\u001b[39mprocess_chunk,\n\u001b[1;32m    337\u001b[0m )\n\u001b[0;32m--> 338\u001b[0m \u001b[39mfor\u001b[39;00m chunk \u001b[39min\u001b[39;00m gen:\n\u001b[1;32m    339\u001b[0m     \u001b[39m# process_chunk modifies X in place. No return value.\u001b[39;00m\n\u001b[1;32m    340\u001b[0m     \u001b[39mpass\u001b[39;00m\n\u001b[1;32m    342\u001b[0m \u001b[39mreturn\u001b[39;00m \u001b[39msuper\u001b[39m()\u001b[39m.\u001b[39m_concatenate_indicator(X[:, valid_mask], X_indicator)\n",
      "File \u001b[0;32m~/.local/lib/python3.10/site-packages/sklearn/metrics/pairwise.py:1859\u001b[0m, in \u001b[0;36mpairwise_distances_chunked\u001b[0;34m(X, Y, reduce_func, metric, n_jobs, working_memory, **kwds)\u001b[0m\n\u001b[1;32m   1857\u001b[0m \u001b[39mif\u001b[39;00m reduce_func \u001b[39mis\u001b[39;00m \u001b[39mnot\u001b[39;00m \u001b[39mNone\u001b[39;00m:\n\u001b[1;32m   1858\u001b[0m     chunk_size \u001b[39m=\u001b[39m D_chunk\u001b[39m.\u001b[39mshape[\u001b[39m0\u001b[39m]\n\u001b[0;32m-> 1859\u001b[0m     D_chunk \u001b[39m=\u001b[39m reduce_func(D_chunk, sl\u001b[39m.\u001b[39;49mstart)\n\u001b[1;32m   1860\u001b[0m     _check_chunk_size(D_chunk, chunk_size)\n\u001b[1;32m   1861\u001b[0m \u001b[39myield\u001b[39;00m D_chunk\n",
      "File \u001b[0;32m~/.local/lib/python3.10/site-packages/sklearn/impute/_knn.py:301\u001b[0m, in \u001b[0;36mKNNImputer.transform.<locals>.process_chunk\u001b[0;34m(dist_chunk, start)\u001b[0m\n\u001b[1;32m    296\u001b[0m dist_subset \u001b[39m=\u001b[39m dist_chunk[dist_idx_map[receivers_idx] \u001b[39m-\u001b[39m start][\n\u001b[1;32m    297\u001b[0m     :, potential_donors_idx\n\u001b[1;32m    298\u001b[0m ]\n\u001b[1;32m    300\u001b[0m \u001b[39m# receivers with all nan distances impute with mean\u001b[39;00m\n\u001b[0;32m--> 301\u001b[0m all_nan_dist_mask \u001b[39m=\u001b[39m np\u001b[39m.\u001b[39;49misnan(dist_subset)\u001b[39m.\u001b[39mall(axis\u001b[39m=\u001b[39m\u001b[39m1\u001b[39m)\n\u001b[1;32m    302\u001b[0m all_nan_receivers_idx \u001b[39m=\u001b[39m receivers_idx[all_nan_dist_mask]\n\u001b[1;32m    304\u001b[0m \u001b[39mif\u001b[39;00m all_nan_receivers_idx\u001b[39m.\u001b[39msize:\n",
      "\u001b[0;31mKeyboardInterrupt\u001b[0m: "
     ]
    }
   ],
   "source": [
    "df = load_accident()"
   ]
  },
  {
   "cell_type": "code",
   "execution_count": 3,
   "metadata": {},
   "outputs": [
    {
     "name": "stdout",
     "output_type": "stream",
     "text": [
      "Before imputation\n",
      "\u001b[32mlum => no missing values [0%]\n",
      "\u001b[33mint => 2 [0.0%]\n",
      "\u001b[33matm => 6 [0.01%]\n",
      "\u001b[33mcol => 302 [0.38%]\n",
      "\u001b[32mcatr => no missing values [0%]\n",
      "\u001b[33mcirc => 1067 [1.35%]\n",
      "\u001b[33mnbv => 379 [0.48%]\n",
      "\u001b[33mvosp => 442 [0.56%]\n",
      "\u001b[33mprof => 207 [0.26%]\n",
      "\u001b[33mplan => 225 [0.28%]\n",
      "\u001b[33msurf => 203 [0.26%]\n",
      "\u001b[33minfra => 1253 [1.58%]\n",
      "\u001b[33msitu => 519 [0.66%]\n",
      "\u001b[31mcatv => 11108 [14.03%]\n",
      "\u001b[33mobs => 64 [0.08%]\n",
      "\u001b[33mobsm => 53 [0.07%]\n",
      "\u001b[33mchoc => 38 [0.05%]\n",
      "\u001b[32mgrav => no missing values [0%]\n",
      "\u001b[31mobs2 => 11113 [14.04%]\n",
      "\u001b[31mobsm2 => 11105 [14.03%]\n",
      "\u001b[31mchoc2 => 11081 [14.0%]\n",
      "\u001b[32mdate => no missing values [0%]\n",
      "\u001b[32mis_in_agg => no missing values [0%]\n"
     ]
    }
   ],
   "source": [
    "print(\"Before imputation\")\n",
    "missing(df)"
   ]
  },
  {
   "cell_type": "code",
   "execution_count": 6,
   "metadata": {},
   "outputs": [
    {
     "name": "stdout",
     "output_type": "stream",
     "text": [
      "After imputation\n",
      "\u001b[32m0 => no missing values [0%]\n",
      "\u001b[32m1 => no missing values [0%]\n",
      "\u001b[32m2 => no missing values [0%]\n",
      "\u001b[32m3 => no missing values [0%]\n",
      "\u001b[32m4 => no missing values [0%]\n",
      "\u001b[32m5 => no missing values [0%]\n",
      "\u001b[32m6 => no missing values [0%]\n",
      "\u001b[32m7 => no missing values [0%]\n",
      "\u001b[32m8 => no missing values [0%]\n",
      "\u001b[32m9 => no missing values [0%]\n",
      "\u001b[32m10 => no missing values [0%]\n",
      "\u001b[32m11 => no missing values [0%]\n",
      "\u001b[32m12 => no missing values [0%]\n",
      "\u001b[32m13 => no missing values [0%]\n",
      "\u001b[32m14 => no missing values [0%]\n",
      "\u001b[32m15 => no missing values [0%]\n",
      "\u001b[32m16 => no missing values [0%]\n",
      "\u001b[32m17 => no missing values [0%]\n",
      "\u001b[32m18 => no missing values [0%]\n",
      "\u001b[32m19 => no missing values [0%]\n",
      "\u001b[32m20 => no missing values [0%]\n",
      "\u001b[32m21 => no missing values [0%]\n"
     ]
    }
   ],
   "source": [
    "print(\"After imputation\")\n",
    "missing(df)"
   ]
  },
  {
   "cell_type": "code",
   "execution_count": 9,
   "metadata": {},
   "outputs": [],
   "source": []
  },
  {
   "cell_type": "code",
   "execution_count": 11,
   "metadata": {},
   "outputs": [
    {
     "name": "stderr",
     "output_type": "stream",
     "text": [
      "/home/rulli/.local/lib/python3.10/site-packages/sklearn/utils/deprecation.py:87: FutureWarning: Function get_feature_names is deprecated; get_feature_names is deprecated in 1.0 and will be removed in 1.2. Please use get_feature_names_out instead.\n",
      "  warnings.warn(msg, category=FutureWarning)\n"
     ]
    }
   ],
   "source": [
    "df = df.replace(pd.NA, np.nan)\n",
    "one_hot_df = one_hot_encoder(df, ['lum', 'int', 'atm', 'col', 'catr', 'circ', 'vosp',\n",
    "       'prof', 'plan', 'surf', 'infra', 'situ', 'catv', 'obs', 'obsm', 'choc',\n",
    "       'grav', 'obs2', 'obsm2', 'choc2'])"
   ]
  },
  {
   "cell_type": "code",
   "execution_count": 12,
   "metadata": {},
   "outputs": [
    {
     "data": {
      "text/html": [
       "<div>\n",
       "<style scoped>\n",
       "    .dataframe tbody tr th:only-of-type {\n",
       "        vertical-align: middle;\n",
       "    }\n",
       "\n",
       "    .dataframe tbody tr th {\n",
       "        vertical-align: top;\n",
       "    }\n",
       "\n",
       "    .dataframe thead th {\n",
       "        text-align: right;\n",
       "    }\n",
       "</style>\n",
       "<table border=\"1\" class=\"dataframe\">\n",
       "  <thead>\n",
       "    <tr style=\"text-align: right;\">\n",
       "      <th></th>\n",
       "      <th>nbv</th>\n",
       "      <th>date</th>\n",
       "      <th>is_in_agg</th>\n",
       "      <th>lum_1</th>\n",
       "      <th>lum_2</th>\n",
       "      <th>lum_3</th>\n",
       "      <th>lum_4</th>\n",
       "      <th>lum_5</th>\n",
       "      <th>int_0.0</th>\n",
       "      <th>int_1.0</th>\n",
       "      <th>...</th>\n",
       "      <th>choc2_1.0</th>\n",
       "      <th>choc2_2.0</th>\n",
       "      <th>choc2_3.0</th>\n",
       "      <th>choc2_4.0</th>\n",
       "      <th>choc2_5.0</th>\n",
       "      <th>choc2_6.0</th>\n",
       "      <th>choc2_7.0</th>\n",
       "      <th>choc2_8.0</th>\n",
       "      <th>choc2_9.0</th>\n",
       "      <th>choc2_nan</th>\n",
       "    </tr>\n",
       "  </thead>\n",
       "  <tbody>\n",
       "    <tr>\n",
       "      <th>20313</th>\n",
       "      <td>NaN</td>\n",
       "      <td>2009-04-30</td>\n",
       "      <td>1.0</td>\n",
       "      <td>0.0</td>\n",
       "      <td>0.0</td>\n",
       "      <td>1.0</td>\n",
       "      <td>0.0</td>\n",
       "      <td>0.0</td>\n",
       "      <td>1.0</td>\n",
       "      <td>0.0</td>\n",
       "      <td>...</td>\n",
       "      <td>0.0</td>\n",
       "      <td>0.0</td>\n",
       "      <td>0.0</td>\n",
       "      <td>0.0</td>\n",
       "      <td>0.0</td>\n",
       "      <td>0.0</td>\n",
       "      <td>0.0</td>\n",
       "      <td>0.0</td>\n",
       "      <td>0.0</td>\n",
       "      <td>0.0</td>\n",
       "    </tr>\n",
       "    <tr>\n",
       "      <th>20594</th>\n",
       "      <td>NaN</td>\n",
       "      <td>2009-03-23</td>\n",
       "      <td>1.0</td>\n",
       "      <td>1.0</td>\n",
       "      <td>0.0</td>\n",
       "      <td>0.0</td>\n",
       "      <td>0.0</td>\n",
       "      <td>0.0</td>\n",
       "      <td>1.0</td>\n",
       "      <td>0.0</td>\n",
       "      <td>...</td>\n",
       "      <td>0.0</td>\n",
       "      <td>0.0</td>\n",
       "      <td>0.0</td>\n",
       "      <td>0.0</td>\n",
       "      <td>0.0</td>\n",
       "      <td>0.0</td>\n",
       "      <td>0.0</td>\n",
       "      <td>1.0</td>\n",
       "      <td>0.0</td>\n",
       "      <td>0.0</td>\n",
       "    </tr>\n",
       "    <tr>\n",
       "      <th>20640</th>\n",
       "      <td>NaN</td>\n",
       "      <td>2009-03-21</td>\n",
       "      <td>1.0</td>\n",
       "      <td>1.0</td>\n",
       "      <td>0.0</td>\n",
       "      <td>0.0</td>\n",
       "      <td>0.0</td>\n",
       "      <td>0.0</td>\n",
       "      <td>1.0</td>\n",
       "      <td>0.0</td>\n",
       "      <td>...</td>\n",
       "      <td>1.0</td>\n",
       "      <td>0.0</td>\n",
       "      <td>0.0</td>\n",
       "      <td>0.0</td>\n",
       "      <td>0.0</td>\n",
       "      <td>0.0</td>\n",
       "      <td>0.0</td>\n",
       "      <td>0.0</td>\n",
       "      <td>0.0</td>\n",
       "      <td>0.0</td>\n",
       "    </tr>\n",
       "    <tr>\n",
       "      <th>20658</th>\n",
       "      <td>NaN</td>\n",
       "      <td>2009-06-03</td>\n",
       "      <td>1.0</td>\n",
       "      <td>0.0</td>\n",
       "      <td>0.0</td>\n",
       "      <td>1.0</td>\n",
       "      <td>0.0</td>\n",
       "      <td>0.0</td>\n",
       "      <td>0.0</td>\n",
       "      <td>1.0</td>\n",
       "      <td>...</td>\n",
       "      <td>1.0</td>\n",
       "      <td>0.0</td>\n",
       "      <td>0.0</td>\n",
       "      <td>0.0</td>\n",
       "      <td>0.0</td>\n",
       "      <td>0.0</td>\n",
       "      <td>0.0</td>\n",
       "      <td>0.0</td>\n",
       "      <td>0.0</td>\n",
       "      <td>0.0</td>\n",
       "    </tr>\n",
       "    <tr>\n",
       "      <th>20664</th>\n",
       "      <td>NaN</td>\n",
       "      <td>2009-06-05</td>\n",
       "      <td>1.0</td>\n",
       "      <td>1.0</td>\n",
       "      <td>0.0</td>\n",
       "      <td>0.0</td>\n",
       "      <td>0.0</td>\n",
       "      <td>0.0</td>\n",
       "      <td>0.0</td>\n",
       "      <td>1.0</td>\n",
       "      <td>...</td>\n",
       "      <td>0.0</td>\n",
       "      <td>1.0</td>\n",
       "      <td>0.0</td>\n",
       "      <td>0.0</td>\n",
       "      <td>0.0</td>\n",
       "      <td>0.0</td>\n",
       "      <td>0.0</td>\n",
       "      <td>0.0</td>\n",
       "      <td>0.0</td>\n",
       "      <td>0.0</td>\n",
       "    </tr>\n",
       "  </tbody>\n",
       "</table>\n",
       "<p>5 rows × 184 columns</p>\n",
       "</div>"
      ],
      "text/plain": [
       "       nbv        date  is_in_agg  lum_1  lum_2  lum_3  lum_4  lum_5  int_0.0  \\\n",
       "20313  NaN  2009-04-30        1.0    0.0    0.0    1.0    0.0    0.0      1.0   \n",
       "20594  NaN  2009-03-23        1.0    1.0    0.0    0.0    0.0    0.0      1.0   \n",
       "20640  NaN  2009-03-21        1.0    1.0    0.0    0.0    0.0    0.0      1.0   \n",
       "20658  NaN  2009-06-03        1.0    0.0    0.0    1.0    0.0    0.0      0.0   \n",
       "20664  NaN  2009-06-05        1.0    1.0    0.0    0.0    0.0    0.0      0.0   \n",
       "\n",
       "       int_1.0  ...  choc2_1.0  choc2_2.0  choc2_3.0  choc2_4.0  choc2_5.0  \\\n",
       "20313      0.0  ...        0.0        0.0        0.0        0.0        0.0   \n",
       "20594      0.0  ...        0.0        0.0        0.0        0.0        0.0   \n",
       "20640      0.0  ...        1.0        0.0        0.0        0.0        0.0   \n",
       "20658      1.0  ...        1.0        0.0        0.0        0.0        0.0   \n",
       "20664      1.0  ...        0.0        1.0        0.0        0.0        0.0   \n",
       "\n",
       "       choc2_6.0  choc2_7.0  choc2_8.0  choc2_9.0  choc2_nan  \n",
       "20313        0.0        0.0        0.0        0.0        0.0  \n",
       "20594        0.0        0.0        1.0        0.0        0.0  \n",
       "20640        0.0        0.0        0.0        0.0        0.0  \n",
       "20658        0.0        0.0        0.0        0.0        0.0  \n",
       "20664        0.0        0.0        0.0        0.0        0.0  \n",
       "\n",
       "[5 rows x 184 columns]"
      ]
     },
     "execution_count": 12,
     "metadata": {},
     "output_type": "execute_result"
    }
   ],
   "source": [
    "one_hot_df.head()"
   ]
  },
  {
   "cell_type": "code",
   "execution_count": null,
   "metadata": {},
   "outputs": [],
   "source": []
  }
 ],
 "metadata": {
  "kernelspec": {
   "display_name": "Python 3",
   "language": "python",
   "name": "python3"
  },
  "language_info": {
   "codemirror_mode": {
    "name": "ipython",
    "version": 3
   },
   "file_extension": ".py",
   "mimetype": "text/x-python",
   "name": "python",
   "nbconvert_exporter": "python",
   "pygments_lexer": "ipython3",
   "version": "3.10.6"
  },
  "orig_nbformat": 4,
  "vscode": {
   "interpreter": {
    "hash": "916dbcbb3f70747c44a77c7bcd40155683ae19c65e1c03b4aa3499c5328201f1"
   }
  }
 },
 "nbformat": 4,
 "nbformat_minor": 2
}
