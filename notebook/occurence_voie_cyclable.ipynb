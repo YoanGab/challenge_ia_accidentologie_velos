{
 "cells": [
  {
   "cell_type": "code",
   "execution_count": 15,
   "metadata": {},
   "outputs": [],
   "source": [
    "import geopandas as gpd\n",
    "import os\n",
    "import pandas as pd\n",
    "from shapely.geometry import shape"
   ]
  },
  {
   "cell_type": "code",
   "execution_count": null,
   "metadata": {},
   "outputs": [],
   "source": [
    "def Col(df : pd.Dataframe) -> pd.Dataframe:\n",
    "\n",
    "    return df"
   ]
  },
  {
   "attachments": {},
   "cell_type": "markdown",
   "metadata": {},
   "source": [
    "### PA utils"
   ]
  },
  {
   "cell_type": "code",
   "execution_count": 157,
   "metadata": {},
   "outputs": [],
   "source": [
    "def create_lat_long(df):\n",
    "    \"\"\"\n",
    "    Replace line by 4 float (Lat1, Long1, Lat2, Long2) into the whole dataframe\n",
    "    \"\"\"\n",
    "\n",
    "    def get_coords(line):\n",
    "        \"\"\"\n",
    "        Transform a line type into 4 float (Lat1, Long1, Lat2, Long2)\n",
    "        \"\"\"\n",
    "        # On crée un objet géométrique à partir de la linestring\n",
    "        line = shape(line)\n",
    "        # On récupère les coordonnées du premier point de la linestring\n",
    "        longitude_dep, latitude_dep = line.coords[0]\n",
    "        longitude_fin, latitude_fin = line.coords[1]\n",
    "        return latitude_dep, longitude_dep, latitude_fin, longitude_fin\n",
    "\n",
    "    df[\"coords\"] = df[\"geometry\"].apply(get_coords)\n",
    "    df[[\"latitude_dep\", \"longitude_dep\", \"latitude_fin\", \"longitude_fin\"]] = pd.DataFrame(df[\"coords\"].tolist(), index=df.index)\n",
    "    df = df.drop(\"coords\", axis=1)\n",
    "    return df\n",
    "\n",
    "def preprocessing(df):\n",
    "    \"\"\"\n",
    "    Drop useless columns (too much nans) and drop some nan lines.\n",
    "    \"\"\"\n",
    "    #hesite to drop : regime_d, code_com_d, regime_g, code_come_g\n",
    "    df = create_lat_long(df) #Transform line to point\n",
    "\n",
    "    def fill_missing_values(row, f):\n",
    "        if row[f + \"_d\"] == None or row[f + \"_d\"] == \"AUCUN\":\n",
    "            row[f + \"_d\"] = row[f + '_g']\n",
    "        return row\n",
    "\n",
    "    df = df.apply(fill_missing_values, axis=1, args=(\"code_com\",))\n",
    "    df = df.apply(fill_missing_values, axis=1, args=(\"ame\",))\n",
    "    df = df.apply(fill_missing_values, axis=1, args=(\"regime\",))\n",
    "\n",
    "    df = df[[\"code_com_d\", \"ame_d\", \"regime_d\",\"date_maj\", \"latitude_dep\", \"longitude_dep\", \"latitude_fin\",\t\"longitude_fin\"]]\n",
    "    df.columns = [\"code_com\", \"ame\", \"regime\",\"date_maj\", \"latitude_dep\", \"longitude_dep\", \"latitude_fin\",\t\"longitude_fin\"]\n",
    "    df = df.dropna(subset=[\"code_com\"])\n",
    "    return df"
   ]
  },
  {
   "attachments": {},
   "cell_type": "markdown",
   "metadata": {},
   "source": [
    "### sqfsdf"
   ]
  },
  {
   "cell_type": "code",
   "execution_count": 154,
   "metadata": {},
   "outputs": [],
   "source": [
    "df = gpd.read_file(os.path.join(\"..\", \"data\", \"france-20230101-formatted.geojson\"))"
   ]
  },
  {
   "cell_type": "code",
   "execution_count": 167,
   "metadata": {},
   "outputs": [
    {
     "data": {
      "text/html": [
       "<div>\n",
       "<style scoped>\n",
       "    .dataframe tbody tr th:only-of-type {\n",
       "        vertical-align: middle;\n",
       "    }\n",
       "\n",
       "    .dataframe tbody tr th {\n",
       "        vertical-align: top;\n",
       "    }\n",
       "\n",
       "    .dataframe thead th {\n",
       "        text-align: right;\n",
       "    }\n",
       "</style>\n",
       "<table border=\"1\" class=\"dataframe\">\n",
       "  <thead>\n",
       "    <tr style=\"text-align: right;\">\n",
       "      <th></th>\n",
       "      <th>ame_g</th>\n",
       "      <th>ame_d</th>\n",
       "    </tr>\n",
       "  </thead>\n",
       "  <tbody>\n",
       "    <tr>\n",
       "      <th>14</th>\n",
       "      <td>AUCUN</td>\n",
       "      <td>BANDE CYCLABLE</td>\n",
       "    </tr>\n",
       "    <tr>\n",
       "      <th>16</th>\n",
       "      <td>AUCUN</td>\n",
       "      <td>PISTE CYCLABLE</td>\n",
       "    </tr>\n",
       "    <tr>\n",
       "      <th>17</th>\n",
       "      <td>DOUBLE SENS CYCLABLE NON MATERIALISE</td>\n",
       "      <td>AUCUN</td>\n",
       "    </tr>\n",
       "    <tr>\n",
       "      <th>20</th>\n",
       "      <td>AUCUN</td>\n",
       "      <td>PISTE CYCLABLE</td>\n",
       "    </tr>\n",
       "    <tr>\n",
       "      <th>22</th>\n",
       "      <td>AUCUN</td>\n",
       "      <td>PISTE CYCLABLE</td>\n",
       "    </tr>\n",
       "    <tr>\n",
       "      <th>...</th>\n",
       "      <td>...</td>\n",
       "      <td>...</td>\n",
       "    </tr>\n",
       "    <tr>\n",
       "      <th>273232</th>\n",
       "      <td>AUCUN</td>\n",
       "      <td>BANDE CYCLABLE</td>\n",
       "    </tr>\n",
       "    <tr>\n",
       "      <th>273234</th>\n",
       "      <td>AUCUN</td>\n",
       "      <td>BANDE CYCLABLE</td>\n",
       "    </tr>\n",
       "    <tr>\n",
       "      <th>273236</th>\n",
       "      <td>AUCUN</td>\n",
       "      <td>BANDE CYCLABLE</td>\n",
       "    </tr>\n",
       "    <tr>\n",
       "      <th>273237</th>\n",
       "      <td>BANDE CYCLABLE</td>\n",
       "      <td>AUCUN</td>\n",
       "    </tr>\n",
       "    <tr>\n",
       "      <th>273246</th>\n",
       "      <td>DOUBLE SENS CYCLABLE BANDE</td>\n",
       "      <td>AUCUN</td>\n",
       "    </tr>\n",
       "  </tbody>\n",
       "</table>\n",
       "<p>115914 rows × 2 columns</p>\n",
       "</div>"
      ],
      "text/plain": [
       "                                       ame_g           ame_d\n",
       "14                                     AUCUN  BANDE CYCLABLE\n",
       "16                                     AUCUN  PISTE CYCLABLE\n",
       "17      DOUBLE SENS CYCLABLE NON MATERIALISE           AUCUN\n",
       "20                                     AUCUN  PISTE CYCLABLE\n",
       "22                                     AUCUN  PISTE CYCLABLE\n",
       "...                                      ...             ...\n",
       "273232                                 AUCUN  BANDE CYCLABLE\n",
       "273234                                 AUCUN  BANDE CYCLABLE\n",
       "273236                                 AUCUN  BANDE CYCLABLE\n",
       "273237                        BANDE CYCLABLE           AUCUN\n",
       "273246            DOUBLE SENS CYCLABLE BANDE           AUCUN\n",
       "\n",
       "[115914 rows x 2 columns]"
      ]
     },
     "execution_count": 167,
     "metadata": {},
     "output_type": "execute_result"
    }
   ],
   "source": [
    "df[df[\"ame_d\"] != df[\"ame_g\"]][['ame_g', 'ame_d']]"
   ]
  },
  {
   "cell_type": "code",
   "execution_count": 181,
   "metadata": {},
   "outputs": [],
   "source": [
    "import numpy as np \n",
    "\n",
    "mask = np.logical_and(np.logical_and(df[\"ame_d\"] != \"AUCUN\", df[\"ame_g\"] != \"AUCUN\"), np.logical_and(df[\"ame_d\"] != \"AUTRE\", df[\"ame_g\"] != \"AUTRE\"))\n",
    "mask = np.logical_and(mask, df[\"ame_d\"] != df[\"ame_g\"])"
   ]
  },
  {
   "cell_type": "code",
   "execution_count": 182,
   "metadata": {},
   "outputs": [
    {
     "data": {
      "text/html": [
       "<div>\n",
       "<style scoped>\n",
       "    .dataframe tbody tr th:only-of-type {\n",
       "        vertical-align: middle;\n",
       "    }\n",
       "\n",
       "    .dataframe tbody tr th {\n",
       "        vertical-align: top;\n",
       "    }\n",
       "\n",
       "    .dataframe thead th {\n",
       "        text-align: right;\n",
       "    }\n",
       "</style>\n",
       "<table border=\"1\" class=\"dataframe\">\n",
       "  <thead>\n",
       "    <tr style=\"text-align: right;\">\n",
       "      <th></th>\n",
       "      <th>ame_d</th>\n",
       "      <th>ame_g</th>\n",
       "    </tr>\n",
       "  </thead>\n",
       "  <tbody>\n",
       "    <tr>\n",
       "      <th>457</th>\n",
       "      <td>COULOIR BUS+VELO</td>\n",
       "      <td>PISTE CYCLABLE</td>\n",
       "    </tr>\n",
       "    <tr>\n",
       "      <th>517</th>\n",
       "      <td>BANDE CYCLABLE</td>\n",
       "      <td>DOUBLE SENS CYCLABLE BANDE</td>\n",
       "    </tr>\n",
       "    <tr>\n",
       "      <th>873</th>\n",
       "      <td>BANDE CYCLABLE</td>\n",
       "      <td>PISTE CYCLABLE</td>\n",
       "    </tr>\n",
       "    <tr>\n",
       "      <th>1019</th>\n",
       "      <td>BANDE CYCLABLE</td>\n",
       "      <td>PISTE CYCLABLE</td>\n",
       "    </tr>\n",
       "    <tr>\n",
       "      <th>1027</th>\n",
       "      <td>BANDE CYCLABLE</td>\n",
       "      <td>PISTE CYCLABLE</td>\n",
       "    </tr>\n",
       "    <tr>\n",
       "      <th>...</th>\n",
       "      <td>...</td>\n",
       "      <td>...</td>\n",
       "    </tr>\n",
       "    <tr>\n",
       "      <th>272397</th>\n",
       "      <td>BANDE CYCLABLE</td>\n",
       "      <td>DOUBLE SENS CYCLABLE BANDE</td>\n",
       "    </tr>\n",
       "    <tr>\n",
       "      <th>272739</th>\n",
       "      <td>BANDE CYCLABLE</td>\n",
       "      <td>DOUBLE SENS CYCLABLE NON MATERIALISE</td>\n",
       "    </tr>\n",
       "    <tr>\n",
       "      <th>272740</th>\n",
       "      <td>BANDE CYCLABLE</td>\n",
       "      <td>DOUBLE SENS CYCLABLE NON MATERIALISE</td>\n",
       "    </tr>\n",
       "    <tr>\n",
       "      <th>273178</th>\n",
       "      <td>BANDE CYCLABLE</td>\n",
       "      <td>COULOIR BUS+VELO</td>\n",
       "    </tr>\n",
       "    <tr>\n",
       "      <th>273179</th>\n",
       "      <td>BANDE CYCLABLE</td>\n",
       "      <td>COULOIR BUS+VELO</td>\n",
       "    </tr>\n",
       "  </tbody>\n",
       "</table>\n",
       "<p>2180 rows × 2 columns</p>\n",
       "</div>"
      ],
      "text/plain": [
       "                   ame_d                                 ame_g\n",
       "457     COULOIR BUS+VELO                        PISTE CYCLABLE\n",
       "517       BANDE CYCLABLE            DOUBLE SENS CYCLABLE BANDE\n",
       "873       BANDE CYCLABLE                        PISTE CYCLABLE\n",
       "1019      BANDE CYCLABLE                        PISTE CYCLABLE\n",
       "1027      BANDE CYCLABLE                        PISTE CYCLABLE\n",
       "...                  ...                                   ...\n",
       "272397    BANDE CYCLABLE            DOUBLE SENS CYCLABLE BANDE\n",
       "272739    BANDE CYCLABLE  DOUBLE SENS CYCLABLE NON MATERIALISE\n",
       "272740    BANDE CYCLABLE  DOUBLE SENS CYCLABLE NON MATERIALISE\n",
       "273178    BANDE CYCLABLE                      COULOIR BUS+VELO\n",
       "273179    BANDE CYCLABLE                      COULOIR BUS+VELO\n",
       "\n",
       "[2180 rows x 2 columns]"
      ]
     },
     "execution_count": 182,
     "metadata": {},
     "output_type": "execute_result"
    }
   ],
   "source": [
    "df[mask][['ame_d', 'ame_g']]"
   ]
  },
  {
   "cell_type": "code",
   "execution_count": 174,
   "metadata": {},
   "outputs": [
    {
     "data": {
      "text/plain": [
       "273258"
      ]
     },
     "execution_count": 174,
     "metadata": {},
     "output_type": "execute_result"
    }
   ],
   "source": [
    "df.shape[0]"
   ]
  },
  {
   "cell_type": "code",
   "execution_count": 158,
   "metadata": {},
   "outputs": [],
   "source": [
    "df2 = preprocessing(df)"
   ]
  },
  {
   "cell_type": "code",
   "execution_count": 159,
   "metadata": {},
   "outputs": [
    {
     "data": {
      "text/html": [
       "<div>\n",
       "<style scoped>\n",
       "    .dataframe tbody tr th:only-of-type {\n",
       "        vertical-align: middle;\n",
       "    }\n",
       "\n",
       "    .dataframe tbody tr th {\n",
       "        vertical-align: top;\n",
       "    }\n",
       "\n",
       "    .dataframe thead th {\n",
       "        text-align: right;\n",
       "    }\n",
       "</style>\n",
       "<table border=\"1\" class=\"dataframe\">\n",
       "  <thead>\n",
       "    <tr style=\"text-align: right;\">\n",
       "      <th></th>\n",
       "      <th>code_com</th>\n",
       "      <th>ame</th>\n",
       "      <th>regime</th>\n",
       "      <th>date_maj</th>\n",
       "      <th>latitude_dep</th>\n",
       "      <th>longitude_dep</th>\n",
       "      <th>latitude_fin</th>\n",
       "      <th>longitude_fin</th>\n",
       "    </tr>\n",
       "  </thead>\n",
       "  <tbody>\n",
       "    <tr>\n",
       "      <th>0</th>\n",
       "      <td>86274</td>\n",
       "      <td>AUTRE</td>\n",
       "      <td>EN AGGLOMERATION</td>\n",
       "      <td>2020-07-28</td>\n",
       "      <td>47.086212</td>\n",
       "      <td>0.005851</td>\n",
       "      <td>47.086436</td>\n",
       "      <td>0.00575</td>\n",
       "    </tr>\n",
       "  </tbody>\n",
       "</table>\n",
       "</div>"
      ],
      "text/plain": [
       "  code_com    ame            regime    date_maj  latitude_dep  longitude_dep  \\\n",
       "0    86274  AUTRE  EN AGGLOMERATION  2020-07-28     47.086212       0.005851   \n",
       "\n",
       "   latitude_fin  longitude_fin  \n",
       "0     47.086436        0.00575  "
      ]
     },
     "execution_count": 159,
     "metadata": {},
     "output_type": "execute_result"
    }
   ],
   "source": [
    "df2.head(1)"
   ]
  },
  {
   "cell_type": "code",
   "execution_count": null,
   "metadata": {},
   "outputs": [],
   "source": [
    "df2[\"\"]"
   ]
  },
  {
   "cell_type": "code",
   "execution_count": 76,
   "metadata": {},
   "outputs": [],
   "source": [
    "df2[\"dep\"] = list(map(lambda a : a[:2], df2[\"code_com_d\"]))"
   ]
  },
  {
   "cell_type": "code",
   "execution_count": 144,
   "metadata": {},
   "outputs": [],
   "source": [
    "for f in [\"code_com\", \"ame\", \"regime\"]:\n",
    "    for i in range(tdf.shape[0]):\n",
    "        if tdf.loc[i, f + \"_d\"] == None:\n",
    "            tdf.loc[i, f + \"_d\"] = tdf.loc[i, f + '_g']"
   ]
  },
  {
   "cell_type": "code",
   "execution_count": 146,
   "metadata": {},
   "outputs": [
    {
     "data": {
      "text/plain": [
       "AUCUN                                            4546\n",
       "PISTE CYCLABLE                                   2409\n",
       "COULOIR BUS+VELO                                 1226\n",
       "BANDE CYCLABLE                                    665\n",
       "AUTRE                                             513\n",
       "VOIE VERTE                                        157\n",
       "AMENAGEMENT MIXTE PIETON VELO HORS VOIE VERTE      85\n",
       "GOULOTTE                                           50\n",
       "VELO RUE                                           48\n",
       "Name: ame_d, dtype: int64"
      ]
     },
     "execution_count": 146,
     "metadata": {},
     "output_type": "execute_result"
    }
   ],
   "source": [
    "df2[df2[\"dep\"] == str(75)]['ame_d'].value_counts()"
   ]
  },
  {
   "cell_type": "code",
   "execution_count": 151,
   "metadata": {},
   "outputs": [],
   "source": [
    "tdf = df2.copy()"
   ]
  },
  {
   "cell_type": "code",
   "execution_count": 152,
   "metadata": {},
   "outputs": [
    {
     "ename": "KeyError",
     "evalue": "'ame_g'",
     "output_type": "error",
     "traceback": [
      "\u001b[0;31m---------------------------------------------------------------------------\u001b[0m",
      "\u001b[0;31mKeyError\u001b[0m                                  Traceback (most recent call last)",
      "File \u001b[0;32m~/.local/lib/python3.10/site-packages/pandas/core/indexes/base.py:3800\u001b[0m, in \u001b[0;36mIndex.get_loc\u001b[0;34m(self, key, method, tolerance)\u001b[0m\n\u001b[1;32m   3799\u001b[0m \u001b[39mtry\u001b[39;00m:\n\u001b[0;32m-> 3800\u001b[0m     \u001b[39mreturn\u001b[39;00m \u001b[39mself\u001b[39;49m\u001b[39m.\u001b[39;49m_engine\u001b[39m.\u001b[39;49mget_loc(casted_key)\n\u001b[1;32m   3801\u001b[0m \u001b[39mexcept\u001b[39;00m \u001b[39mKeyError\u001b[39;00m \u001b[39mas\u001b[39;00m err:\n",
      "File \u001b[0;32m~/.local/lib/python3.10/site-packages/pandas/_libs/index.pyx:138\u001b[0m, in \u001b[0;36mpandas._libs.index.IndexEngine.get_loc\u001b[0;34m()\u001b[0m\n",
      "File \u001b[0;32m~/.local/lib/python3.10/site-packages/pandas/_libs/index.pyx:165\u001b[0m, in \u001b[0;36mpandas._libs.index.IndexEngine.get_loc\u001b[0;34m()\u001b[0m\n",
      "File \u001b[0;32mpandas/_libs/hashtable_class_helper.pxi:5745\u001b[0m, in \u001b[0;36mpandas._libs.hashtable.PyObjectHashTable.get_item\u001b[0;34m()\u001b[0m\n",
      "File \u001b[0;32mpandas/_libs/hashtable_class_helper.pxi:5753\u001b[0m, in \u001b[0;36mpandas._libs.hashtable.PyObjectHashTable.get_item\u001b[0;34m()\u001b[0m\n",
      "\u001b[0;31mKeyError\u001b[0m: 'ame_g'",
      "\nThe above exception was the direct cause of the following exception:\n",
      "\u001b[0;31mKeyError\u001b[0m                                  Traceback (most recent call last)",
      "\u001b[1;32m/home/rulli/Documents/Cours/Challenge2023Latitude/challenge_ia_accidentologie_velos/notebook/occurence_voie_cyclable.ipynb Cellule 13\u001b[0m in \u001b[0;36m<cell line: 7>\u001b[0;34m()\u001b[0m\n\u001b[1;32m      <a href='vscode-notebook-cell:/home/rulli/Documents/Cours/Challenge2023Latitude/challenge_ia_accidentologie_velos/notebook/occurence_voie_cyclable.ipynb#X32sZmlsZQ%3D%3D?line=3'>4</a>\u001b[0m     \u001b[39mreturn\u001b[39;00m row\n\u001b[1;32m      <a href='vscode-notebook-cell:/home/rulli/Documents/Cours/Challenge2023Latitude/challenge_ia_accidentologie_velos/notebook/occurence_voie_cyclable.ipynb#X32sZmlsZQ%3D%3D?line=5'>6</a>\u001b[0m tdf \u001b[39m=\u001b[39m tdf\u001b[39m.\u001b[39mapply(fill_missing_values, axis\u001b[39m=\u001b[39m\u001b[39m1\u001b[39m, args\u001b[39m=\u001b[39m(\u001b[39m\"\u001b[39m\u001b[39mcode_com\u001b[39m\u001b[39m\"\u001b[39m,))\n\u001b[0;32m----> <a href='vscode-notebook-cell:/home/rulli/Documents/Cours/Challenge2023Latitude/challenge_ia_accidentologie_velos/notebook/occurence_voie_cyclable.ipynb#X32sZmlsZQ%3D%3D?line=6'>7</a>\u001b[0m tdf \u001b[39m=\u001b[39m tdf\u001b[39m.\u001b[39;49mapply(fill_missing_values, axis\u001b[39m=\u001b[39;49m\u001b[39m1\u001b[39;49m, args\u001b[39m=\u001b[39;49m(\u001b[39m\"\u001b[39;49m\u001b[39mame\u001b[39;49m\u001b[39m\"\u001b[39;49m,))\n\u001b[1;32m      <a href='vscode-notebook-cell:/home/rulli/Documents/Cours/Challenge2023Latitude/challenge_ia_accidentologie_velos/notebook/occurence_voie_cyclable.ipynb#X32sZmlsZQ%3D%3D?line=7'>8</a>\u001b[0m tdf \u001b[39m=\u001b[39m tdf\u001b[39m.\u001b[39mapply(fill_missing_values, axis\u001b[39m=\u001b[39m\u001b[39m1\u001b[39m, args\u001b[39m=\u001b[39m(\u001b[39m\"\u001b[39m\u001b[39mregime\u001b[39m\u001b[39m\"\u001b[39m,))\n",
      "File \u001b[0;32m~/.local/lib/python3.10/site-packages/pandas/core/frame.py:9558\u001b[0m, in \u001b[0;36mDataFrame.apply\u001b[0;34m(self, func, axis, raw, result_type, args, **kwargs)\u001b[0m\n\u001b[1;32m   9547\u001b[0m \u001b[39mfrom\u001b[39;00m \u001b[39mpandas\u001b[39;00m\u001b[39m.\u001b[39;00m\u001b[39mcore\u001b[39;00m\u001b[39m.\u001b[39;00m\u001b[39mapply\u001b[39;00m \u001b[39mimport\u001b[39;00m frame_apply\n\u001b[1;32m   9549\u001b[0m op \u001b[39m=\u001b[39m frame_apply(\n\u001b[1;32m   9550\u001b[0m     \u001b[39mself\u001b[39m,\n\u001b[1;32m   9551\u001b[0m     func\u001b[39m=\u001b[39mfunc,\n\u001b[0;32m   (...)\u001b[0m\n\u001b[1;32m   9556\u001b[0m     kwargs\u001b[39m=\u001b[39mkwargs,\n\u001b[1;32m   9557\u001b[0m )\n\u001b[0;32m-> 9558\u001b[0m \u001b[39mreturn\u001b[39;00m op\u001b[39m.\u001b[39;49mapply()\u001b[39m.\u001b[39m__finalize__(\u001b[39mself\u001b[39m, method\u001b[39m=\u001b[39m\u001b[39m\"\u001b[39m\u001b[39mapply\u001b[39m\u001b[39m\"\u001b[39m)\n",
      "File \u001b[0;32m~/.local/lib/python3.10/site-packages/pandas/core/apply.py:741\u001b[0m, in \u001b[0;36mFrameApply.apply\u001b[0;34m(self)\u001b[0m\n\u001b[1;32m    738\u001b[0m \u001b[39melif\u001b[39;00m \u001b[39mself\u001b[39m\u001b[39m.\u001b[39mraw:\n\u001b[1;32m    739\u001b[0m     \u001b[39mreturn\u001b[39;00m \u001b[39mself\u001b[39m\u001b[39m.\u001b[39mapply_raw()\n\u001b[0;32m--> 741\u001b[0m \u001b[39mreturn\u001b[39;00m \u001b[39mself\u001b[39;49m\u001b[39m.\u001b[39;49mapply_standard()\n",
      "File \u001b[0;32m~/.local/lib/python3.10/site-packages/pandas/core/apply.py:868\u001b[0m, in \u001b[0;36mFrameApply.apply_standard\u001b[0;34m(self)\u001b[0m\n\u001b[1;32m    867\u001b[0m \u001b[39mdef\u001b[39;00m \u001b[39mapply_standard\u001b[39m(\u001b[39mself\u001b[39m):\n\u001b[0;32m--> 868\u001b[0m     results, res_index \u001b[39m=\u001b[39m \u001b[39mself\u001b[39;49m\u001b[39m.\u001b[39;49mapply_series_generator()\n\u001b[1;32m    870\u001b[0m     \u001b[39m# wrap results\u001b[39;00m\n\u001b[1;32m    871\u001b[0m     \u001b[39mreturn\u001b[39;00m \u001b[39mself\u001b[39m\u001b[39m.\u001b[39mwrap_results(results, res_index)\n",
      "File \u001b[0;32m~/.local/lib/python3.10/site-packages/pandas/core/apply.py:884\u001b[0m, in \u001b[0;36mFrameApply.apply_series_generator\u001b[0;34m(self)\u001b[0m\n\u001b[1;32m    881\u001b[0m \u001b[39mwith\u001b[39;00m option_context(\u001b[39m\"\u001b[39m\u001b[39mmode.chained_assignment\u001b[39m\u001b[39m\"\u001b[39m, \u001b[39mNone\u001b[39;00m):\n\u001b[1;32m    882\u001b[0m     \u001b[39mfor\u001b[39;00m i, v \u001b[39min\u001b[39;00m \u001b[39menumerate\u001b[39m(series_gen):\n\u001b[1;32m    883\u001b[0m         \u001b[39m# ignore SettingWithCopy here in case the user mutates\u001b[39;00m\n\u001b[0;32m--> 884\u001b[0m         results[i] \u001b[39m=\u001b[39m \u001b[39mself\u001b[39;49m\u001b[39m.\u001b[39;49mf(v)\n\u001b[1;32m    885\u001b[0m         \u001b[39mif\u001b[39;00m \u001b[39misinstance\u001b[39m(results[i], ABCSeries):\n\u001b[1;32m    886\u001b[0m             \u001b[39m# If we have a view on v, we need to make a copy because\u001b[39;00m\n\u001b[1;32m    887\u001b[0m             \u001b[39m#  series_generator will swap out the underlying data\u001b[39;00m\n\u001b[1;32m    888\u001b[0m             results[i] \u001b[39m=\u001b[39m results[i]\u001b[39m.\u001b[39mcopy(deep\u001b[39m=\u001b[39m\u001b[39mFalse\u001b[39;00m)\n",
      "File \u001b[0;32m~/.local/lib/python3.10/site-packages/pandas/core/apply.py:139\u001b[0m, in \u001b[0;36mApply.__init__.<locals>.f\u001b[0;34m(x)\u001b[0m\n\u001b[1;32m    138\u001b[0m \u001b[39mdef\u001b[39;00m \u001b[39mf\u001b[39m(x):\n\u001b[0;32m--> 139\u001b[0m     \u001b[39mreturn\u001b[39;00m func(x, \u001b[39m*\u001b[39;49margs, \u001b[39m*\u001b[39;49m\u001b[39m*\u001b[39;49mkwargs)\n",
      "\u001b[1;32m/home/rulli/Documents/Cours/Challenge2023Latitude/challenge_ia_accidentologie_velos/notebook/occurence_voie_cyclable.ipynb Cellule 13\u001b[0m in \u001b[0;36mfill_missing_values\u001b[0;34m(row, f)\u001b[0m\n\u001b[1;32m      <a href='vscode-notebook-cell:/home/rulli/Documents/Cours/Challenge2023Latitude/challenge_ia_accidentologie_velos/notebook/occurence_voie_cyclable.ipynb#X32sZmlsZQ%3D%3D?line=0'>1</a>\u001b[0m \u001b[39mdef\u001b[39;00m \u001b[39mfill_missing_values\u001b[39m(row, f):\n\u001b[1;32m      <a href='vscode-notebook-cell:/home/rulli/Documents/Cours/Challenge2023Latitude/challenge_ia_accidentologie_velos/notebook/occurence_voie_cyclable.ipynb#X32sZmlsZQ%3D%3D?line=1'>2</a>\u001b[0m     \u001b[39mif\u001b[39;00m row[f \u001b[39m+\u001b[39m \u001b[39m\"\u001b[39m\u001b[39m_d\u001b[39m\u001b[39m\"\u001b[39m] \u001b[39m==\u001b[39m \u001b[39mNone\u001b[39;00m:\n\u001b[0;32m----> <a href='vscode-notebook-cell:/home/rulli/Documents/Cours/Challenge2023Latitude/challenge_ia_accidentologie_velos/notebook/occurence_voie_cyclable.ipynb#X32sZmlsZQ%3D%3D?line=2'>3</a>\u001b[0m         row[f \u001b[39m+\u001b[39m \u001b[39m\"\u001b[39m\u001b[39m_d\u001b[39m\u001b[39m\"\u001b[39m] \u001b[39m=\u001b[39m row[f \u001b[39m+\u001b[39;49m \u001b[39m'\u001b[39;49m\u001b[39m_g\u001b[39;49m\u001b[39m'\u001b[39;49m]\n\u001b[1;32m      <a href='vscode-notebook-cell:/home/rulli/Documents/Cours/Challenge2023Latitude/challenge_ia_accidentologie_velos/notebook/occurence_voie_cyclable.ipynb#X32sZmlsZQ%3D%3D?line=3'>4</a>\u001b[0m     \u001b[39mreturn\u001b[39;00m row\n",
      "File \u001b[0;32m~/.local/lib/python3.10/site-packages/pandas/core/series.py:982\u001b[0m, in \u001b[0;36mSeries.__getitem__\u001b[0;34m(self, key)\u001b[0m\n\u001b[1;32m    979\u001b[0m     \u001b[39mreturn\u001b[39;00m \u001b[39mself\u001b[39m\u001b[39m.\u001b[39m_values[key]\n\u001b[1;32m    981\u001b[0m \u001b[39melif\u001b[39;00m key_is_scalar:\n\u001b[0;32m--> 982\u001b[0m     \u001b[39mreturn\u001b[39;00m \u001b[39mself\u001b[39;49m\u001b[39m.\u001b[39;49m_get_value(key)\n\u001b[1;32m    984\u001b[0m \u001b[39mif\u001b[39;00m is_hashable(key):\n\u001b[1;32m    985\u001b[0m     \u001b[39m# Otherwise index.get_value will raise InvalidIndexError\u001b[39;00m\n\u001b[1;32m    986\u001b[0m     \u001b[39mtry\u001b[39;00m:\n\u001b[1;32m    987\u001b[0m         \u001b[39m# For labels that don't resolve as scalars like tuples and frozensets\u001b[39;00m\n",
      "File \u001b[0;32m~/.local/lib/python3.10/site-packages/pandas/core/series.py:1092\u001b[0m, in \u001b[0;36mSeries._get_value\u001b[0;34m(self, label, takeable)\u001b[0m\n\u001b[1;32m   1089\u001b[0m     \u001b[39mreturn\u001b[39;00m \u001b[39mself\u001b[39m\u001b[39m.\u001b[39m_values[label]\n\u001b[1;32m   1091\u001b[0m \u001b[39m# Similar to Index.get_value, but we do not fall back to positional\u001b[39;00m\n\u001b[0;32m-> 1092\u001b[0m loc \u001b[39m=\u001b[39m \u001b[39mself\u001b[39;49m\u001b[39m.\u001b[39;49mindex\u001b[39m.\u001b[39;49mget_loc(label)\n\u001b[1;32m   1093\u001b[0m \u001b[39mreturn\u001b[39;00m \u001b[39mself\u001b[39m\u001b[39m.\u001b[39mindex\u001b[39m.\u001b[39m_get_values_for_loc(\u001b[39mself\u001b[39m, loc, label)\n",
      "File \u001b[0;32m~/.local/lib/python3.10/site-packages/pandas/core/indexes/base.py:3802\u001b[0m, in \u001b[0;36mIndex.get_loc\u001b[0;34m(self, key, method, tolerance)\u001b[0m\n\u001b[1;32m   3800\u001b[0m     \u001b[39mreturn\u001b[39;00m \u001b[39mself\u001b[39m\u001b[39m.\u001b[39m_engine\u001b[39m.\u001b[39mget_loc(casted_key)\n\u001b[1;32m   3801\u001b[0m \u001b[39mexcept\u001b[39;00m \u001b[39mKeyError\u001b[39;00m \u001b[39mas\u001b[39;00m err:\n\u001b[0;32m-> 3802\u001b[0m     \u001b[39mraise\u001b[39;00m \u001b[39mKeyError\u001b[39;00m(key) \u001b[39mfrom\u001b[39;00m \u001b[39merr\u001b[39;00m\n\u001b[1;32m   3803\u001b[0m \u001b[39mexcept\u001b[39;00m \u001b[39mTypeError\u001b[39;00m:\n\u001b[1;32m   3804\u001b[0m     \u001b[39m# If we have a listlike key, _check_indexing_error will raise\u001b[39;00m\n\u001b[1;32m   3805\u001b[0m     \u001b[39m#  InvalidIndexError. Otherwise we fall through and re-raise\u001b[39;00m\n\u001b[1;32m   3806\u001b[0m     \u001b[39m#  the TypeError.\u001b[39;00m\n\u001b[1;32m   3807\u001b[0m     \u001b[39mself\u001b[39m\u001b[39m.\u001b[39m_check_indexing_error(key)\n",
      "\u001b[0;31mKeyError\u001b[0m: 'ame_g'"
     ]
    }
   ],
   "source": []
  },
  {
   "cell_type": "code",
   "execution_count": 150,
   "metadata": {},
   "outputs": [
    {
     "data": {
      "text/html": [
       "<div>\n",
       "<style scoped>\n",
       "    .dataframe tbody tr th:only-of-type {\n",
       "        vertical-align: middle;\n",
       "    }\n",
       "\n",
       "    .dataframe tbody tr th {\n",
       "        vertical-align: top;\n",
       "    }\n",
       "\n",
       "    .dataframe thead th {\n",
       "        text-align: right;\n",
       "    }\n",
       "</style>\n",
       "<table border=\"1\" class=\"dataframe\">\n",
       "  <thead>\n",
       "    <tr style=\"text-align: right;\">\n",
       "      <th></th>\n",
       "      <th>id_local</th>\n",
       "      <th>id_osm</th>\n",
       "      <th>num_iti</th>\n",
       "      <th>code_com_d</th>\n",
       "      <th>ame_d</th>\n",
       "      <th>regime_d</th>\n",
       "      <th>sens_d</th>\n",
       "      <th>largeur_d</th>\n",
       "      <th>local_d</th>\n",
       "      <th>statut_d</th>\n",
       "      <th>...</th>\n",
       "      <th>d_service</th>\n",
       "      <th>source</th>\n",
       "      <th>project_c</th>\n",
       "      <th>ref_geo</th>\n",
       "      <th>geometry</th>\n",
       "      <th>coords</th>\n",
       "      <th>latitude_dep</th>\n",
       "      <th>longitude_dep</th>\n",
       "      <th>latitude_fin</th>\n",
       "      <th>longitude_fin</th>\n",
       "    </tr>\n",
       "  </thead>\n",
       "  <tbody>\n",
       "    <tr>\n",
       "      <th>0</th>\n",
       "      <td>geovelo_429754890_86274</td>\n",
       "      <td>429754890</td>\n",
       "      <td>None</td>\n",
       "      <td>86274</td>\n",
       "      <td>AUTRE</td>\n",
       "      <td>EN AGGLOMERATION</td>\n",
       "      <td>UNIDIRECTIONNEL</td>\n",
       "      <td>NaN</td>\n",
       "      <td>None</td>\n",
       "      <td>EN SERVICE</td>\n",
       "      <td>...</td>\n",
       "      <td>None</td>\n",
       "      <td>Les contributeurs OpenStreetmap</td>\n",
       "      <td>4326</td>\n",
       "      <td>OpenStreetmap</td>\n",
       "      <td>LINESTRING (0.00585 47.08621, 0.00575 47.08644...</td>\n",
       "      <td>(47.0862118, 0.005850700000012, 47.08643619999...</td>\n",
       "      <td>47.086212</td>\n",
       "      <td>0.005851</td>\n",
       "      <td>47.086436</td>\n",
       "      <td>0.005750</td>\n",
       "    </tr>\n",
       "    <tr>\n",
       "      <th>1</th>\n",
       "      <td>geovelo_618321946_47165</td>\n",
       "      <td>618321946</td>\n",
       "      <td>3:V80</td>\n",
       "      <td>47165</td>\n",
       "      <td>PISTE CYCLABLE</td>\n",
       "      <td>AUTRE</td>\n",
       "      <td>UNIDIRECTIONNEL</td>\n",
       "      <td>NaN</td>\n",
       "      <td>None</td>\n",
       "      <td>EN SERVICE</td>\n",
       "      <td>...</td>\n",
       "      <td>None</td>\n",
       "      <td>Les contributeurs OpenStreetmap</td>\n",
       "      <td>4326</td>\n",
       "      <td>OpenStreetmap</td>\n",
       "      <td>LINESTRING (0.02402 44.52984, 0.02409 44.52989)</td>\n",
       "      <td>(44.52983869999997, 0.0240232, 44.5298946, 0.0...</td>\n",
       "      <td>44.529839</td>\n",
       "      <td>0.024023</td>\n",
       "      <td>44.529895</td>\n",
       "      <td>0.024091</td>\n",
       "    </tr>\n",
       "    <tr>\n",
       "      <th>2</th>\n",
       "      <td>geovelo_320086926_65440</td>\n",
       "      <td>320086926</td>\n",
       "      <td>None</td>\n",
       "      <td>65440</td>\n",
       "      <td>VOIE VERTE</td>\n",
       "      <td>AUTRE</td>\n",
       "      <td>UNIDIRECTIONNEL</td>\n",
       "      <td>NaN</td>\n",
       "      <td>None</td>\n",
       "      <td>EN SERVICE</td>\n",
       "      <td>...</td>\n",
       "      <td>None</td>\n",
       "      <td>Les contributeurs OpenStreetmap</td>\n",
       "      <td>4326</td>\n",
       "      <td>OpenStreetmap</td>\n",
       "      <td>LINESTRING (0.04709 43.22005, 0.04696 43.22039)</td>\n",
       "      <td>(43.220046, 0.047085500000012, 43.2203946, 0.0...</td>\n",
       "      <td>43.220046</td>\n",
       "      <td>0.047086</td>\n",
       "      <td>43.220395</td>\n",
       "      <td>0.046962</td>\n",
       "    </tr>\n",
       "  </tbody>\n",
       "</table>\n",
       "<p>3 rows × 33 columns</p>\n",
       "</div>"
      ],
      "text/plain": [
       "                  id_local     id_osm num_iti code_com_d           ame_d  \\\n",
       "0  geovelo_429754890_86274  429754890    None      86274           AUTRE   \n",
       "1  geovelo_618321946_47165  618321946   3:V80      47165  PISTE CYCLABLE   \n",
       "2  geovelo_320086926_65440  320086926    None      65440      VOIE VERTE   \n",
       "\n",
       "           regime_d           sens_d  largeur_d local_d    statut_d  ...  \\\n",
       "0  EN AGGLOMERATION  UNIDIRECTIONNEL        NaN    None  EN SERVICE  ...   \n",
       "1             AUTRE  UNIDIRECTIONNEL        NaN    None  EN SERVICE  ...   \n",
       "2             AUTRE  UNIDIRECTIONNEL        NaN    None  EN SERVICE  ...   \n",
       "\n",
       "  d_service                           source project_c        ref_geo  \\\n",
       "0      None  Les contributeurs OpenStreetmap      4326  OpenStreetmap   \n",
       "1      None  Les contributeurs OpenStreetmap      4326  OpenStreetmap   \n",
       "2      None  Les contributeurs OpenStreetmap      4326  OpenStreetmap   \n",
       "\n",
       "                                            geometry  \\\n",
       "0  LINESTRING (0.00585 47.08621, 0.00575 47.08644...   \n",
       "1    LINESTRING (0.02402 44.52984, 0.02409 44.52989)   \n",
       "2    LINESTRING (0.04709 43.22005, 0.04696 43.22039)   \n",
       "\n",
       "                                              coords latitude_dep  \\\n",
       "0  (47.0862118, 0.005850700000012, 47.08643619999...    47.086212   \n",
       "1  (44.52983869999997, 0.0240232, 44.5298946, 0.0...    44.529839   \n",
       "2  (43.220046, 0.047085500000012, 43.2203946, 0.0...    43.220046   \n",
       "\n",
       "  longitude_dep latitude_fin longitude_fin  \n",
       "0      0.005851    47.086436      0.005750  \n",
       "1      0.024023    44.529895      0.024091  \n",
       "2      0.047086    43.220395      0.046962  \n",
       "\n",
       "[3 rows x 33 columns]"
      ]
     },
     "execution_count": 150,
     "metadata": {},
     "output_type": "execute_result"
    }
   ],
   "source": [
    "tdf.head(3)"
   ]
  },
  {
   "cell_type": "code",
   "execution_count": null,
   "metadata": {},
   "outputs": [],
   "source": []
  }
 ],
 "metadata": {
  "kernelspec": {
   "display_name": "Python 3",
   "language": "python",
   "name": "python3"
  },
  "language_info": {
   "codemirror_mode": {
    "name": "ipython",
    "version": 3
   },
   "file_extension": ".py",
   "mimetype": "text/x-python",
   "name": "python",
   "nbconvert_exporter": "python",
   "pygments_lexer": "ipython3",
   "version": "3.10.6 (main, Nov 14 2022, 16:10:14) [GCC 11.3.0]"
  },
  "orig_nbformat": 4,
  "vscode": {
   "interpreter": {
    "hash": "916dbcbb3f70747c44a77c7bcd40155683ae19c65e1c03b4aa3499c5328201f1"
   }
  }
 },
 "nbformat": 4,
 "nbformat_minor": 2
}
